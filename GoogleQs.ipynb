{
 "cells": [
  {
   "cell_type": "markdown",
   "metadata": {},
   "source": [
    "the following challenges are taken from\n",
    "\n",
    "https://techdevguide.withgoogle.com/paths/foundational/find-longest-word-in-dictionary-that-subsequence-of-given-string#!\n",
    "\n",
    "\n",
    " The Challenge\n",
    "\n",
    "Given a string S and a set of words D, find the longest word in D that is a subsequence of S.\n",
    "\n",
    "Word W is a subsequence of S if some number of characters, possibly zero, can be deleted from S to form W, without reordering the remaining characters.\n",
    "\n",
    "Note: D can appear in any format (list, hash table, prefix tree, etc.\n",
    "\n",
    "For example, given the input of S = \"abppplee\" and D = {\"able\", \"ale\", \"apple\", \"bale\", \"kangaroo\"} the correct output would be \"apple\"\n",
    "\n",
    "The words \"able\" and \"ale\" are both subsequences of S, but they are shorter than \"apple\".\n",
    "\n",
    "The word \"bale\" is not a subsequence of S because even though S has all the right letters, they are not in the right order.\n",
    "\n",
    "The word \"kangaroo\" is the longest word in D, but it isn't a subsequence of S.\n",
    "\n",
    "Learning objectives\n",
    "\n",
    "This question gives you the chance to practice with algorithms and data structures. It’s also a good example of why careful analysis for Big-O performance is often worthwhile, as is careful exploration of common and worst-case input conditions."
   ]
  },
  {
   "cell_type": "code",
   "execution_count": 67,
   "metadata": {},
   "outputs": [
    {
     "name": "stdout",
     "output_type": "stream",
     "text": [
      "a valid item:  able\n",
      "a valid item:  apple\n",
      "a valid item:  ale\n",
      "Outsider\n",
      "invalid item\n",
      "Longest valid item is:  apple\n"
     ]
    }
   ],
   "source": [
    "S = \"abppplee\"\n",
    "\n",
    "D = {\"able\", \"ale\", \"apple\", \"bale\", \"kangaroo\"} \n",
    "\n",
    "valid = []\n",
    "big = ''\n",
    "\n",
    "for items in D:\n",
    "    idx = []\n",
    "    found = 0\n",
    "    for chars in items:\n",
    "        j = 0\n",
    "\n",
    "        for c in range(j,len(S)):\n",
    "            if chars is S[c]:\n",
    "                j = c\n",
    "                idx.append(j)\n",
    "                found = found + 1\n",
    "                break\n",
    "    \n",
    "    if sorted(idx) == idx:\n",
    "        if found == len(items):\n",
    "            print('a valid item: ', items)\n",
    "            valid.append(items)\n",
    "            if len(big) < len(items):\n",
    "                big = items\n",
    "        else:\n",
    "            print('Outsider')\n",
    "    \n",
    "    else:\n",
    "        print('invalid item')\n",
    "\n",
    "print('Longest valid item is: ',big)\n",
    "\n"
   ]
  },
  {
   "cell_type": "code",
   "execution_count": null,
   "metadata": {},
   "outputs": [],
   "source": []
  }
 ],
 "metadata": {
  "kernelspec": {
   "display_name": "Python 3",
   "language": "python",
   "name": "python3"
  },
  "language_info": {
   "codemirror_mode": {
    "name": "ipython",
    "version": 3
   },
   "file_extension": ".py",
   "mimetype": "text/x-python",
   "name": "python",
   "nbconvert_exporter": "python",
   "pygments_lexer": "ipython3",
   "version": "3.7.1"
  }
 },
 "nbformat": 4,
 "nbformat_minor": 2
}
